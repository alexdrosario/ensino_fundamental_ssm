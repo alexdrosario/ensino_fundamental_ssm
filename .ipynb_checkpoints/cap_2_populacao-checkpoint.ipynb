{
 "cells": [
  {
   "cell_type": "code",
   "execution_count": 1,
   "metadata": {
    "collapsed": true
   },
   "outputs": [],
   "source": [
    "## Carregamento dos pacotes necessários à execução das rotinas\n",
    "import pandas as pd\n",
    "import matplotlib.pyplot as plt\n",
    "import matplotlib as mpl\n",
    "import numpy as np\n",
    "import locale\n",
    "from scipy.stats import linregress\n",
    "import statsmodels.formula.api as smf\n",
    "import seaborn as sns\n",
    "%matplotlib inline\n",
    "pd.set_option('display.max_rows', None)"
   ]
  },
  {
   "cell_type": "code",
   "execution_count": 2,
   "metadata": {
    "collapsed": true
   },
   "outputs": [],
   "source": [
    "## Abertura do arquivo Atlas que contém dados da população de 2000 a 2010\n",
    "atlas = pd.read_csv('C:/Users/alex/python/dissertacao/atlasb.CSV')\n",
    "\n",
    "## Selecão do ano 2010\n",
    "atlas = atlas.query('ano == 2010')"
   ]
  },
  {
   "cell_type": "code",
   "execution_count": 6,
   "metadata": {
    "collapsed": true
   },
   "outputs": [],
   "source": [
    "## Somatório da população masculina e feminina com idade de 10 a 14 anos e de 15 a 19 anos-2010\n",
    "pop10a14 = atlas['homem10a14'].sum() + atlas['mulh10a14'].sum()\n",
    "pop15a19 = atlas['homem15a19'].sum() + atlas['mulh15a19'].sum()\n",
    "pop10a19 = pop10a14 + pop15a19\n",
    "pop = atlas['pop'].sum ()"
   ]
  },
  {
   "cell_type": "code",
   "execution_count": 7,
   "metadata": {},
   "outputs": [
    {
     "data": {
      "text/html": [
       "<div>\n",
       "<table border=\"1\" class=\"dataframe\">\n",
       "  <thead>\n",
       "    <tr style=\"text-align: right;\">\n",
       "      <th></th>\n",
       "      <th>População (idade)</th>\n",
       "      <th>Quantidade</th>\n",
       "    </tr>\n",
       "  </thead>\n",
       "  <tbody>\n",
       "    <tr>\n",
       "      <th>0</th>\n",
       "      <td>10 a 14</td>\n",
       "      <td>17166761</td>\n",
       "    </tr>\n",
       "    <tr>\n",
       "      <th>1</th>\n",
       "      <td>15 a 19</td>\n",
       "      <td>16990870</td>\n",
       "    </tr>\n",
       "    <tr>\n",
       "      <th>2</th>\n",
       "      <td>10 a 19</td>\n",
       "      <td>34157631</td>\n",
       "    </tr>\n",
       "    <tr>\n",
       "      <th>3</th>\n",
       "      <td>Geral</td>\n",
       "      <td>189467349</td>\n",
       "    </tr>\n",
       "  </tbody>\n",
       "</table>\n",
       "</div>"
      ],
      "text/plain": [
       "  População (idade)  Quantidade\n",
       "0           10 a 14    17166761\n",
       "1           15 a 19    16990870\n",
       "2           10 a 19    34157631\n",
       "3             Geral   189467349"
      ]
     },
     "execution_count": 7,
     "metadata": {},
     "output_type": "execute_result"
    }
   ],
   "source": [
    "dados = {'População (idade)': ['10 a 14','15 a 19','10 a 19','Geral'],\n",
    "        'Quantidade': [pop10a14, pop15a19,pop10a19,pop]}\n",
    "dados = pd.DataFrame(dados)\n",
    "dados"
   ]
  }
 ],
 "metadata": {
  "kernelspec": {
   "display_name": "Python 3",
   "language": "python",
   "name": "python3"
  },
  "language_info": {
   "codemirror_mode": {
    "name": "ipython",
    "version": 3
   },
   "file_extension": ".py",
   "mimetype": "text/x-python",
   "name": "python",
   "nbconvert_exporter": "python",
   "pygments_lexer": "ipython3",
   "version": "3.6.1"
  }
 },
 "nbformat": 4,
 "nbformat_minor": 2
}
