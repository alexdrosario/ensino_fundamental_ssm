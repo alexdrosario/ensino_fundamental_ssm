{
 "cells": [
  {
   "cell_type": "code",
   "execution_count": 1,
   "metadata": {
    "collapsed": true
   },
   "outputs": [],
   "source": [
    "import pandas as pd"
   ]
  },
  {
   "cell_type": "code",
   "execution_count": 4,
   "metadata": {
    "collapsed": false
   },
   "outputs": [],
   "source": [
    "esc = pd.read_csv('microdados_saeb_2015/DADOS/TS_ESCOLA.csv', encoding='latin1')\n",
    "esc.columns = esc.columns.str.lower()\n",
    "esc.rename(columns={'id_municipio': 'mun'}, inplace=True)\n",
    "\n",
    "#criando o banco de dados da mesorregião do SM\n",
    "atlasmesmg = pd.read_csv('atlas.csv').query('meso == 3110')\n",
    "mesmg = pd.merge(atlasmesmg.iloc[:,:7], esc, on='mun')\n",
    "\n",
    "#criando o banco de dados de MG\n",
    "atlasmg = pd.read_csv('atlas.csv').query('uf == 31')\n",
    "ssmg = pd.merge(atlasmg.iloc[:,:7], esc, on='mun')\n",
    "\n",
    "#criando o banco de dados do Brasil\n",
    "atlasbr = pd.read_csv('atlas.csv')\n",
    "ssbr = pd.merge(atlasbr.iloc[:,:7], esc, on='mun')\n",
    "\n",
    "# substituindo NAs pela média\n",
    "mesmg['media_5ef_lp'] = mesmg.media_5ef_lp.fillna(mesmg.media_5ef_lp.mean())\n",
    "mesmg['media_5ef_mt'] = mesmg.media_5ef_mt.fillna(mesmg.media_5ef_mt.mean())\n",
    "ssmg['media_5ef_lp'] = ssmg.media_5ef_lp.fillna(ssmg.media_5ef_lp.mean())\n",
    "ssmg['media_5ef_mt'] = ssmg.media_5ef_mt.fillna(ssmg.media_5ef_mt.mean())\n",
    "ssbr['media_5ef_lp'] = ssbr.media_5ef_lp.fillna(ssbr.media_5ef_lp.mean())\n",
    "ssbr['media_5ef_mt'] = ssbr.media_5ef_mt.fillna(ssbr.media_5ef_mt.mean())"
   ]
  },
  {
   "cell_type": "code",
   "execution_count": null,
   "metadata": {
    "collapsed": true
   },
   "outputs": [],
   "source": []
  },
  {
   "cell_type": "code",
   "execution_count": 317,
   "metadata": {
    "collapsed": false
   },
   "outputs": [],
   "source": [
    "#cálculo da média das notas de língua portuguesa\n",
    "media_5ef_lp_mesmg = mesmg.media_5ef_lp.mean()\n",
    "media_5ef_lp_mg = ssmg.media_5ef_lp.mean()\n",
    "media_5ef_lp_br = ssbr.media_5ef_lp.mean()\n",
    "\n",
    "#cálculo da média das notas de matemática\n",
    "media_5ef_mt_mesmg = mesmg.media_5ef_mt.mean()\n",
    "media_5ef_mt_mg = ssmg.media_5ef_mt.mean()\n",
    "media_5ef_mt_br = ssbr.media_5ef_mt.mean()"
   ]
  },
  {
   "cell_type": "code",
   "execution_count": 323,
   "metadata": {
    "collapsed": false
   },
   "outputs": [
    {
     "name": "stdout",
     "output_type": "stream",
     "text": [
      "Média Prova Brasil do 5º ano em língua portuguesa\n",
      "Mesorregião SM: 228.53\n",
      "Estado de MG..: 220.24\n",
      "Brasil........: 205.78\n",
      "\n",
      "Média Prova Brasil do 5º ano em matemática\n",
      "Mesorregião SSM: 244.45\n",
      "Estado de MG...: 232.32\n",
      "Brasil.........: 218.39\n"
     ]
    }
   ],
   "source": [
    "print ('Média Prova Brasil do 5º ano em língua portuguesa')\n",
    "print ('Mesorregião SM:',round(media_5ef_lp_mesmg,2))\n",
    "print ('Estado de MG..:',round(media_5ef_lp_mg,2))\n",
    "print ('Brasil........:',round(media_5ef_lp_br,2))\n",
    "print ('')\n",
    "print ('Média Prova Brasil do 5º ano em matemática')\n",
    "print ('Mesorregião SSM:',round(media_5ef_mt_mesmg,2))\n",
    "print ('Estado de MG...:',round(media_5ef_mt_mg,2))\n",
    "print ('Brasil.........:',round(media_5ef_mt_br,2))"
   ]
  }
 ],
 "metadata": {
  "kernelspec": {
   "display_name": "Python 3",
   "language": "python",
   "name": "python3"
  },
  "language_info": {
   "codemirror_mode": {
    "name": "ipython",
    "version": 3
   },
   "file_extension": ".py",
   "mimetype": "text/x-python",
   "name": "python",
   "nbconvert_exporter": "python",
   "pygments_lexer": "ipython3",
   "version": "3.6.0"
  }
 },
 "nbformat": 4,
 "nbformat_minor": 2
}
